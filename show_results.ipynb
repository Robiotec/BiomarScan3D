{
 "cells": [
  {
   "cell_type": "code",
   "execution_count": 4,
   "id": "114584c8",
   "metadata": {},
   "outputs": [
    {
     "name": "stdout",
     "output_type": "stream",
     "text": [
      "The file exists at: /home/ose/Documents/BiomarScan3D/results/odm_dem/dsm.tif\n",
      "CRS: EPSG:32609\n",
      "Width: 578\n",
      "Height: 364\n",
      "Number of bands: 1\n",
      "Bounds: BoundingBox(left=668179.8400000001, bottom=-6.220000000000001, right=668208.74, top=11.980000000000002)\n"
     ]
    },
    {
     "data": {
      "image/png": "[encoded data removed]",
      "text/plain": [
       "<Figure size 640x480 with 1 Axes>"
      ]
     },
     "metadata": {},
     "output_type": "display_data"
    }
   ],
   "source": [
    "import os\n",
    "import matplotlib.pyplot as plt\n",
    "\n",
    "import rasterio\n",
    "\n",
    "base_dir = os.getcwd()  # Use the current working directory as the base directory\n",
    "# Check if the script is running in a Jupyter Notebook\n",
    "\n",
    "ORTHO_DIR = os.path.join(base_dir, \"results\", \"odm_dem\", \"dsm.tif\")\n",
    "if os.path.exists(ORTHO_DIR):\n",
    "    print(\"The file exists at:\", ORTHO_DIR)\n",
    "else:\n",
    "    print(\"The file does not exist at:\", ORTHO_DIR)\n",
    "\n",
    "with rasterio.open(ORTHO_DIR) as image:\n",
    "    print(\"CRS:\", image.crs)\n",
    "    print(\"Width:\", image.width)\n",
    "    print(\"Height:\", image.height)\n",
    "    print(\"Number of bands:\", image.count)\n",
    "    print(\"Bounds:\", image.bounds)\n",
    "    image_data = image.read(1)  # Read the data within the context manager\n",
    "\n",
    "plt.imshow(image_data)  # Use the data outside the context manager\n",
    "plt.axis(\"off\")\n",
    "plt.show()\n"
   ]
  }
 ],
 "metadata": {
  "kernelspec": {
   "display_name": ".venv",
   "language": "python",
   "name": "python3"
  },
  "language_info": {
   "codemirror_mode": {
    "name": "ipython",
    "version": 3
   },
   "file_extension": ".py",
   "mimetype": "text/x-python",
   "name": "python",
   "nbconvert_exporter": "python",
   "pygments_lexer": "ipython3",
   "version": "3.12.7"
  }
 },
 "nbformat": 4,
 "nbformat_minor": 5
}
