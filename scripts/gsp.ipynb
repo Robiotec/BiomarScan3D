{
 "cells": [
  {
   "cell_type": "code",
   "execution_count": 6,
   "id": "114584c8",
   "metadata": {},
   "outputs": [
    {
     "name": "stdout",
     "output_type": "stream",
     "text": [
      "/home/ose/Documents/BiomarScan3D/.venv/bin/python: No module named pip\n",
      "Note: you may need to restart the kernel to use updated packages.\n"
     ]
    },
    {
     "ename": "LaspyException",
     "evalue": "The 'LazBackend.Lazrs' is not available",
     "output_type": "error",
     "traceback": [
      "\u001b[31m---------------------------------------------------------------------------\u001b[39m",
      "\u001b[31mLaspyException\u001b[39m                            Traceback (most recent call last)",
      "\u001b[36mCell\u001b[39m\u001b[36m \u001b[39m\u001b[32mIn[6]\u001b[39m\u001b[32m, line 9\u001b[39m\n\u001b[32m      6\u001b[39m \u001b[38;5;28;01mfrom\u001b[39;00m\u001b[38;5;250m \u001b[39m\u001b[34;01mmpl_toolkits\u001b[39;00m\u001b[34;01m.\u001b[39;00m\u001b[34;01mmplot3d\u001b[39;00m\u001b[38;5;250m \u001b[39m\u001b[38;5;28;01mimport\u001b[39;00m Axes3D\n\u001b[32m      8\u001b[39m laz_path = \u001b[33m'\u001b[39m\u001b[33m../results/odm_georeferencing/odm_georeferenced_model.laz\u001b[39m\u001b[33m'\u001b[39m\n\u001b[32m----> \u001b[39m\u001b[32m9\u001b[39m las = \u001b[43mlaspy\u001b[49m\u001b[43m.\u001b[49m\u001b[43mread\u001b[49m\u001b[43m(\u001b[49m\u001b[43mlaz_path\u001b[49m\u001b[43m,\u001b[49m\u001b[43m \u001b[49m\u001b[43mlaz_backend\u001b[49m\u001b[43m=\u001b[49m\u001b[43mlaspy\u001b[49m\u001b[43m.\u001b[49m\u001b[43mLazBackend\u001b[49m\u001b[43m.\u001b[49m\u001b[43mLazrs\u001b[49m\u001b[43m)\u001b[49m\n\u001b[32m     11\u001b[39m \u001b[38;5;66;03m# Get the points\u001b[39;00m\n\u001b[32m     12\u001b[39m points = np.vstack((las.x, las.y, las.z)).transpose()\n",
      "\u001b[36mFile \u001b[39m\u001b[32m~/Documents/BiomarScan3D/.venv/lib/python3.12/site-packages/laspy/lib.py:255\u001b[39m, in \u001b[36mread_las\u001b[39m\u001b[34m(source, closefd, laz_backend, decompression_selection)\u001b[39m\n\u001b[32m    215\u001b[39m \u001b[38;5;250m\u001b[39m\u001b[33;03m\"\"\"Entry point for reading las data in laspy\u001b[39;00m\n\u001b[32m    216\u001b[39m \n\u001b[32m    217\u001b[39m \u001b[33;03mReads the whole file into memory.\u001b[39;00m\n\u001b[32m   (...)\u001b[39m\u001b[32m    247\u001b[39m \u001b[33;03m    The ``decompression_selection`` parameter.\u001b[39;00m\n\u001b[32m    248\u001b[39m \u001b[33;03m\"\"\"\u001b[39;00m\n\u001b[32m    249\u001b[39m \u001b[38;5;28;01mwith\u001b[39;00m open_las(\n\u001b[32m    250\u001b[39m     source,\n\u001b[32m    251\u001b[39m     closefd=closefd,\n\u001b[32m    252\u001b[39m     laz_backend=laz_backend,\n\u001b[32m    253\u001b[39m     decompression_selection=decompression_selection,\n\u001b[32m    254\u001b[39m ) \u001b[38;5;28;01mas\u001b[39;00m reader:\n\u001b[32m--> \u001b[39m\u001b[32m255\u001b[39m     \u001b[38;5;28;01mreturn\u001b[39;00m \u001b[43mreader\u001b[49m\u001b[43m.\u001b[49m\u001b[43mread\u001b[49m\u001b[43m(\u001b[49m\u001b[43m)\u001b[49m\n",
      "\u001b[36mFile \u001b[39m\u001b[32m~/Documents/BiomarScan3D/.venv/lib/python3.12/site-packages/laspy/lasreader.py:126\u001b[39m, in \u001b[36mLasReader.read\u001b[39m\u001b[34m(self)\u001b[39m\n\u001b[32m    119\u001b[39m \u001b[38;5;28;01mdef\u001b[39;00m\u001b[38;5;250m \u001b[39m\u001b[34mread\u001b[39m(\u001b[38;5;28mself\u001b[39m) -> LasData:\n\u001b[32m    120\u001b[39m \u001b[38;5;250m    \u001b[39m\u001b[33;03m\"\"\"\u001b[39;00m\n\u001b[32m    121\u001b[39m \u001b[33;03m    Reads all the points that are not read and returns a LasData object\u001b[39;00m\n\u001b[32m    122\u001b[39m \n\u001b[32m    123\u001b[39m \u001b[33;03m    This will also read EVLRS\u001b[39;00m\n\u001b[32m    124\u001b[39m \n\u001b[32m    125\u001b[39m \u001b[33;03m    \"\"\"\u001b[39;00m\n\u001b[32m--> \u001b[39m\u001b[32m126\u001b[39m     points = \u001b[38;5;28;43mself\u001b[39;49m\u001b[43m.\u001b[49m\u001b[43mread_points\u001b[49m\u001b[43m(\u001b[49m\u001b[43m-\u001b[49m\u001b[32;43m1\u001b[39;49m\u001b[43m)\u001b[49m\n\u001b[32m    127\u001b[39m     las_data = LasData(header=\u001b[38;5;28mself\u001b[39m.header, points=points)\n\u001b[32m    129\u001b[39m     shall_read_evlr = (\n\u001b[32m    130\u001b[39m         \u001b[38;5;28mself\u001b[39m.header.version.minor >= \u001b[32m4\u001b[39m\n\u001b[32m    131\u001b[39m         \u001b[38;5;129;01mand\u001b[39;00m \u001b[38;5;28mself\u001b[39m.header.number_of_evlrs > \u001b[32m0\u001b[39m\n\u001b[32m    132\u001b[39m         \u001b[38;5;129;01mand\u001b[39;00m \u001b[38;5;28mself\u001b[39m.evlrs \u001b[38;5;129;01mis\u001b[39;00m \u001b[38;5;28;01mNone\u001b[39;00m\n\u001b[32m    133\u001b[39m     )\n",
      "\u001b[36mFile \u001b[39m\u001b[32m~/Documents/BiomarScan3D/.venv/lib/python3.12/site-packages/laspy/lasreader.py:107\u001b[39m, in \u001b[36mLasReader.read_points\u001b[39m\u001b[34m(self, n)\u001b[39m\n\u001b[32m    103\u001b[39m \u001b[38;5;28;01melse\u001b[39;00m:\n\u001b[32m    104\u001b[39m     n = \u001b[38;5;28mmin\u001b[39m(n, points_left)\n\u001b[32m    106\u001b[39m r = record.PackedPointRecord.from_buffer(\n\u001b[32m--> \u001b[39m\u001b[32m107\u001b[39m     \u001b[38;5;28;43mself\u001b[39;49m\u001b[43m.\u001b[49m\u001b[43mpoint_source\u001b[49m.read_n_points(n), \u001b[38;5;28mself\u001b[39m.header.point_format\n\u001b[32m    108\u001b[39m )\n\u001b[32m    109\u001b[39m \u001b[38;5;28;01mif\u001b[39;00m \u001b[38;5;28mlen\u001b[39m(r) < n:\n\u001b[32m    110\u001b[39m     logger.error(\u001b[33mf\u001b[39m\u001b[33m\"\u001b[39m\u001b[33mCould only read \u001b[39m\u001b[38;5;132;01m{\u001b[39;00m\u001b[38;5;28mlen\u001b[39m(r)\u001b[38;5;132;01m}\u001b[39;00m\u001b[33m of the requested \u001b[39m\u001b[38;5;132;01m{\u001b[39;00mn\u001b[38;5;132;01m}\u001b[39;00m\u001b[33m points\u001b[39m\u001b[33m\"\u001b[39m)\n",
      "\u001b[36mFile \u001b[39m\u001b[32m~/Documents/BiomarScan3D/.venv/lib/python3.12/site-packages/laspy/lasreader.py:75\u001b[39m, in \u001b[36mLasReader.point_source\u001b[39m\u001b[34m(self)\u001b[39m\n\u001b[32m     72\u001b[39m \u001b[38;5;129m@property\u001b[39m\n\u001b[32m     73\u001b[39m \u001b[38;5;28;01mdef\u001b[39;00m\u001b[38;5;250m \u001b[39m\u001b[34mpoint_source\u001b[39m(\u001b[38;5;28mself\u001b[39m) -> \u001b[33m\"\u001b[39m\u001b[33mIPointReader\u001b[39m\u001b[33m\"\u001b[39m:\n\u001b[32m     74\u001b[39m     \u001b[38;5;28;01mif\u001b[39;00m \u001b[38;5;28mself\u001b[39m._point_source \u001b[38;5;129;01mis\u001b[39;00m \u001b[38;5;28;01mNone\u001b[39;00m:\n\u001b[32m---> \u001b[39m\u001b[32m75\u001b[39m         \u001b[38;5;28mself\u001b[39m._point_source = \u001b[38;5;28;43mself\u001b[39;49m\u001b[43m.\u001b[49m\u001b[43m_create_point_source\u001b[49m\u001b[43m(\u001b[49m\u001b[38;5;28;43mself\u001b[39;49m\u001b[43m.\u001b[49m\u001b[43m_source\u001b[49m\u001b[43m)\u001b[49m\n\u001b[32m     76\u001b[39m     \u001b[38;5;28;01mreturn\u001b[39;00m \u001b[38;5;28mself\u001b[39m._point_source\n",
      "\u001b[36mFile \u001b[39m\u001b[32m~/Documents/BiomarScan3D/.venv/lib/python3.12/site-packages/laspy/lasreader.py:291\u001b[39m, in \u001b[36mLasReader._create_point_source\u001b[39m\u001b[34m(self, source)\u001b[39m\n\u001b[32m    289\u001b[39m \u001b[38;5;28;01mif\u001b[39;00m \u001b[38;5;28mself\u001b[39m.header.point_count > \u001b[32m0\u001b[39m:\n\u001b[32m    290\u001b[39m     \u001b[38;5;28;01mif\u001b[39;00m \u001b[38;5;28mself\u001b[39m.header.are_points_compressed:\n\u001b[32m--> \u001b[39m\u001b[32m291\u001b[39m         point_source = \u001b[38;5;28;43mself\u001b[39;49m\u001b[43m.\u001b[49m\u001b[43m_create_laz_backend\u001b[49m\u001b[43m(\u001b[49m\u001b[43msource\u001b[49m\u001b[43m)\u001b[49m\n\u001b[32m    292\u001b[39m         \u001b[38;5;28;01mif\u001b[39;00m point_source \u001b[38;5;129;01mis\u001b[39;00m \u001b[38;5;28;01mNone\u001b[39;00m:\n\u001b[32m    293\u001b[39m             \u001b[38;5;28;01mraise\u001b[39;00m errors.LaspyException(\n\u001b[32m    294\u001b[39m                 \u001b[33m\"\u001b[39m\u001b[33mData is compressed, but no LazBacked could be initialized\u001b[39m\u001b[33m\"\u001b[39m\n\u001b[32m    295\u001b[39m             )\n",
      "\u001b[36mFile \u001b[39m\u001b[32m~/Documents/BiomarScan3D/.venv/lib/python3.12/site-packages/laspy/lasreader.py:286\u001b[39m, in \u001b[36mLasReader._create_laz_backend\u001b[39m\u001b[34m(self, source)\u001b[39m\n\u001b[32m    283\u001b[39m         \u001b[38;5;28mself\u001b[39m.header.vlrs.pop(\u001b[38;5;28mself\u001b[39m.header.vlrs.index(\u001b[33m\"\u001b[39m\u001b[33mLasZipVlr\u001b[39m\u001b[33m\"\u001b[39m))\n\u001b[32m    284\u001b[39m         \u001b[38;5;28;01mreturn\u001b[39;00m reader\n\u001b[32m--> \u001b[39m\u001b[32m286\u001b[39m \u001b[38;5;28;01mraise\u001b[39;00m last_error\n",
      "\u001b[36mFile \u001b[39m\u001b[32m~/Documents/BiomarScan3D/.venv/lib/python3.12/site-packages/laspy/lasreader.py:272\u001b[39m, in \u001b[36mLasReader._create_laz_backend\u001b[39m\u001b[34m(self, source)\u001b[39m\n\u001b[32m    270\u001b[39m \u001b[38;5;28;01mtry\u001b[39;00m:\n\u001b[32m    271\u001b[39m     \u001b[38;5;28;01mif\u001b[39;00m \u001b[38;5;129;01mnot\u001b[39;00m backend.is_available():\n\u001b[32m--> \u001b[39m\u001b[32m272\u001b[39m         \u001b[38;5;28;01mraise\u001b[39;00m errors.LaspyException(\u001b[33mf\u001b[39m\u001b[33m\"\u001b[39m\u001b[33mThe \u001b[39m\u001b[33m'\u001b[39m\u001b[38;5;132;01m{\u001b[39;00mbackend\u001b[38;5;132;01m}\u001b[39;00m\u001b[33m'\u001b[39m\u001b[33m is not available\u001b[39m\u001b[33m\"\u001b[39m)\n\u001b[32m    274\u001b[39m     reader: IPointReader = backend.create_reader(\n\u001b[32m    275\u001b[39m         source,\n\u001b[32m    276\u001b[39m         \u001b[38;5;28mself\u001b[39m.header,\n\u001b[32m    277\u001b[39m         decompression_selection=\u001b[38;5;28mself\u001b[39m.decompression_selection,\n\u001b[32m    278\u001b[39m     )\n\u001b[32m    279\u001b[39m \u001b[38;5;28;01mexcept\u001b[39;00m \u001b[38;5;167;01mException\u001b[39;00m \u001b[38;5;28;01mas\u001b[39;00m e:\n",
      "\u001b[31mLaspyException\u001b[39m: The 'LazBackend.Lazrs' is not available"
     ]
    }
   ],
   "source": [
    "%pip install lazrs\n",
    "\n",
    "import laspy\n",
    "import numpy as np\n",
    "import matplotlib.pyplot as plt\n",
    "from mpl_toolkits.mplot3d import Axes3D\n",
    "\n",
    "laz_path = '../results/odm_georeferencing/odm_georeferenced_model.laz'\n",
    "las = laspy.read(laz_path, laz_backend=laspy.LazBackend.Lazrs)\n",
    "\n",
    "# Get the points\n",
    "points = np.vstack((las.x, las.y, las.z)).transpose()\n",
    "\n",
    "# Create a 3D scatter plot\n",
    "fig = plt.figure(figsize=(12, 8))\n",
    "ax = fig.add_subplot(111, projection='3d')\n",
    "\n",
    "# Plot a subset of points to avoid overwhelming the visualization\n",
    "# Using every 100th point\n",
    "stride = 100\n",
    "ax.scatter(points[::stride, 0], \n",
    "          points[::stride, 1], \n",
    "          points[::stride, 2],\n",
    "          c=points[::stride, 2],  # Color by height\n",
    "          cmap='terrain',\n",
    "          s=0.1)\n",
    "\n",
    "ax.set_title('ODM Georeferenced Point Cloud')\n",
    "plt.show()"
   ]
  }
 ],
 "metadata": {
  "kernelspec": {
   "display_name": ".venv",
   "language": "python",
   "name": "python3"
  },
  "language_info": {
   "codemirror_mode": {
    "name": "ipython",
    "version": 3
   },
   "file_extension": ".py",
   "mimetype": "text/x-python",
   "name": "python",
   "nbconvert_exporter": "python",
   "pygments_lexer": "ipython3",
   "version": "3.12.7"
  }
 },
 "nbformat": 4,
 "nbformat_minor": 5
}
